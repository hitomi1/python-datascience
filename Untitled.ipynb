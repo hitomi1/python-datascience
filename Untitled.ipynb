{
 "cells": [
  {
   "cell_type": "code",
   "execution_count": 157,
   "id": "a822c255",
   "metadata": {},
   "outputs": [],
   "source": [
    "import pandas as pd\n",
    "import numpy as np\n",
    "import matplotlib.pyplot as plt"
   ]
  },
  {
   "cell_type": "code",
   "execution_count": 158,
   "id": "c3968ce5",
   "metadata": {},
   "outputs": [
    {
     "data": {
      "text/html": [
       "<div>\n",
       "<style scoped>\n",
       "    .dataframe tbody tr th:only-of-type {\n",
       "        vertical-align: middle;\n",
       "    }\n",
       "\n",
       "    .dataframe tbody tr th {\n",
       "        vertical-align: top;\n",
       "    }\n",
       "\n",
       "    .dataframe thead th {\n",
       "        text-align: right;\n",
       "    }\n",
       "</style>\n",
       "<table border=\"1\" class=\"dataframe\">\n",
       "  <thead>\n",
       "    <tr style=\"text-align: right;\">\n",
       "      <th></th>\n",
       "      <th>data</th>\n",
       "      <th>receita</th>\n",
       "      <th>transacoes_blog</th>\n",
       "      <th>transacoes_site</th>\n",
       "      <th>usuarios_blog</th>\n",
       "      <th>usuarios_site</th>\n",
       "    </tr>\n",
       "  </thead>\n",
       "  <tbody>\n",
       "    <tr>\n",
       "      <th>0</th>\n",
       "      <td>2019-01-01</td>\n",
       "      <td>349184</td>\n",
       "      <td>0</td>\n",
       "      <td>4693</td>\n",
       "      <td>0</td>\n",
       "      <td>46739</td>\n",
       "    </tr>\n",
       "    <tr>\n",
       "      <th>1</th>\n",
       "      <td>2019-01-02</td>\n",
       "      <td>867328</td>\n",
       "      <td>0</td>\n",
       "      <td>8501</td>\n",
       "      <td>0</td>\n",
       "      <td>83129</td>\n",
       "    </tr>\n",
       "    <tr>\n",
       "      <th>2</th>\n",
       "      <td>2019-01-03</td>\n",
       "      <td>758590</td>\n",
       "      <td>0</td>\n",
       "      <td>9375</td>\n",
       "      <td>0</td>\n",
       "      <td>86067</td>\n",
       "    </tr>\n",
       "    <tr>\n",
       "      <th>3</th>\n",
       "      <td>2019-01-04</td>\n",
       "      <td>688873</td>\n",
       "      <td>0</td>\n",
       "      <td>8405</td>\n",
       "      <td>0</td>\n",
       "      <td>69363</td>\n",
       "    </tr>\n",
       "    <tr>\n",
       "      <th>4</th>\n",
       "      <td>2019-01-05</td>\n",
       "      <td>441760</td>\n",
       "      <td>0</td>\n",
       "      <td>6136</td>\n",
       "      <td>0</td>\n",
       "      <td>56183</td>\n",
       "    </tr>\n",
       "    <tr>\n",
       "      <th>...</th>\n",
       "      <td>...</td>\n",
       "      <td>...</td>\n",
       "      <td>...</td>\n",
       "      <td>...</td>\n",
       "      <td>...</td>\n",
       "      <td>...</td>\n",
       "    </tr>\n",
       "    <tr>\n",
       "      <th>634</th>\n",
       "      <td>2020-09-26</td>\n",
       "      <td>2509687</td>\n",
       "      <td>1580</td>\n",
       "      <td>15320</td>\n",
       "      <td>9292</td>\n",
       "      <td>96178</td>\n",
       "    </tr>\n",
       "    <tr>\n",
       "      <th>635</th>\n",
       "      <td>2020-09-27</td>\n",
       "      <td>2182679</td>\n",
       "      <td>1838</td>\n",
       "      <td>14135</td>\n",
       "      <td>10052</td>\n",
       "      <td>103494</td>\n",
       "    </tr>\n",
       "    <tr>\n",
       "      <th>636</th>\n",
       "      <td>2020-09-28</td>\n",
       "      <td>3496475</td>\n",
       "      <td>2684</td>\n",
       "      <td>21724</td>\n",
       "      <td>11224</td>\n",
       "      <td>127524</td>\n",
       "    </tr>\n",
       "    <tr>\n",
       "      <th>637</th>\n",
       "      <td>2020-09-29</td>\n",
       "      <td>4519732</td>\n",
       "      <td>3037</td>\n",
       "      <td>28017</td>\n",
       "      <td>11570</td>\n",
       "      <td>150116</td>\n",
       "    </tr>\n",
       "    <tr>\n",
       "      <th>638</th>\n",
       "      <td>2020-09-30</td>\n",
       "      <td>6240174</td>\n",
       "      <td>3848</td>\n",
       "      <td>38535</td>\n",
       "      <td>9685</td>\n",
       "      <td>150780</td>\n",
       "    </tr>\n",
       "  </tbody>\n",
       "</table>\n",
       "<p>639 rows × 6 columns</p>\n",
       "</div>"
      ],
      "text/plain": [
       "           data  receita  transacoes_blog  transacoes_site  usuarios_blog  \\\n",
       "0    2019-01-01   349184                0             4693              0   \n",
       "1    2019-01-02   867328                0             8501              0   \n",
       "2    2019-01-03   758590                0             9375              0   \n",
       "3    2019-01-04   688873                0             8405              0   \n",
       "4    2019-01-05   441760                0             6136              0   \n",
       "..          ...      ...              ...              ...            ...   \n",
       "634  2020-09-26  2509687             1580            15320           9292   \n",
       "635  2020-09-27  2182679             1838            14135          10052   \n",
       "636  2020-09-28  3496475             2684            21724          11224   \n",
       "637  2020-09-29  4519732             3037            28017          11570   \n",
       "638  2020-09-30  6240174             3848            38535           9685   \n",
       "\n",
       "     usuarios_site  \n",
       "0            46739  \n",
       "1            83129  \n",
       "2            86067  \n",
       "3            69363  \n",
       "4            56183  \n",
       "..             ...  \n",
       "634          96178  \n",
       "635         103494  \n",
       "636         127524  \n",
       "637         150116  \n",
       "638         150780  \n",
       "\n",
       "[639 rows x 6 columns]"
      ]
     },
     "execution_count": 158,
     "metadata": {},
     "output_type": "execute_result"
    }
   ],
   "source": [
    "data = pd.read_csv('pseldata.csv')\n",
    "data.head(1000)"
   ]
  },
  {
   "cell_type": "code",
   "execution_count": 159,
   "id": "578d6c9c",
   "metadata": {},
   "outputs": [],
   "source": [
    "x = data.drop(['receita','data'],axis=1).values\n",
    "y = data['receita'].values"
   ]
  },
  {
   "cell_type": "code",
   "execution_count": 162,
   "id": "dcf1117a",
   "metadata": {},
   "outputs": [],
   "source": [
    "from sklearn.model_selection import train_test_split\n",
    "x_train, x_test, y_train, y_test = train_test_split(x,y,test_size=0.5, random_state=0)"
   ]
  },
  {
   "cell_type": "code",
   "execution_count": 163,
   "id": "64163279",
   "metadata": {},
   "outputs": [
    {
     "data": {
      "text/plain": [
       "LinearRegression()"
      ]
     },
     "execution_count": 163,
     "metadata": {},
     "output_type": "execute_result"
    }
   ],
   "source": [
    "from sklearn.linear_model import LinearRegression\n",
    "ml=LinearRegression()\n",
    "ml.fit(x_train,y_train)"
   ]
  },
  {
   "cell_type": "code",
   "execution_count": 169,
   "id": "0f0f8c37",
   "metadata": {},
   "outputs": [],
   "source": [
    "y_pred=ml.predict(x_test)"
   ]
  },
  {
   "cell_type": "code",
   "execution_count": 173,
   "id": "3fffc6ad",
   "metadata": {},
   "outputs": [
    {
     "data": {
      "text/plain": [
       "array([403741.49701648])"
      ]
     },
     "execution_count": 173,
     "metadata": {},
     "output_type": "execute_result"
    }
   ],
   "source": [
    "ml.predict([[0,4693,0,46739]])"
   ]
  },
  {
   "cell_type": "code",
   "execution_count": 166,
   "id": "6ce5de17",
   "metadata": {},
   "outputs": [
    {
     "data": {
      "text/plain": [
       "0.9022564922939688"
      ]
     },
     "execution_count": 166,
     "metadata": {},
     "output_type": "execute_result"
    }
   ],
   "source": [
    "from sklearn.metrics import r2_score\n",
    "r2_score(y_test, y_pred)"
   ]
  },
  {
   "cell_type": "code",
   "execution_count": 167,
   "id": "246e636d",
   "metadata": {
    "scrolled": true
   },
   "outputs": [
    {
     "data": {
      "text/plain": [
       "Text(0.5, 1.0, 'Atual vs Previsto')"
      ]
     },
     "execution_count": 167,
     "metadata": {},
     "output_type": "execute_result"
    },
    {
     "data": {
      "image/png": "[encoded data removed]",
      "text/plain": [
       "<Figure size 432x288 with 1 Axes>"
      ]
     },
     "metadata": {
      "needs_background": "light"
     },
     "output_type": "display_data"
    }
   ],
   "source": [
    "#plt.figure(figsize=(15,10))\n",
    "plt.scatter(y_test,y_pred)\n",
    "plt.xlabel('Atual')\n",
    "plt.ylabel('Previsto')\n",
    "plt.title('Atual vs Previsto')"
   ]
  },
  {
   "cell_type": "code",
   "execution_count": 168,
   "id": "06450ced",
   "metadata": {},
   "outputs": [
    {
     "data": {
      "text/html": [
       "<div>\n",
       "<style scoped>\n",
       "    .dataframe tbody tr th:only-of-type {\n",
       "        vertical-align: middle;\n",
       "    }\n",
       "\n",
       "    .dataframe tbody tr th {\n",
       "        vertical-align: top;\n",
       "    }\n",
       "\n",
       "    .dataframe thead th {\n",
       "        text-align: right;\n",
       "    }\n",
       "</style>\n",
       "<table border=\"1\" class=\"dataframe\">\n",
       "  <thead>\n",
       "    <tr style=\"text-align: right;\">\n",
       "      <th></th>\n",
       "      <th>Valores atuais</th>\n",
       "      <th>Valores previstos</th>\n",
       "      <th>Diferença</th>\n",
       "    </tr>\n",
       "  </thead>\n",
       "  <tbody>\n",
       "    <tr>\n",
       "      <th>0</th>\n",
       "      <td>953421</td>\n",
       "      <td>1325518</td>\n",
       "      <td>-372097</td>\n",
       "    </tr>\n",
       "    <tr>\n",
       "      <th>1</th>\n",
       "      <td>1982777</td>\n",
       "      <td>2384956</td>\n",
       "      <td>-402179</td>\n",
       "    </tr>\n",
       "    <tr>\n",
       "      <th>2</th>\n",
       "      <td>2325207</td>\n",
       "      <td>2424174</td>\n",
       "      <td>-98967</td>\n",
       "    </tr>\n",
       "    <tr>\n",
       "      <th>3</th>\n",
       "      <td>2727729</td>\n",
       "      <td>2869094</td>\n",
       "      <td>-141365</td>\n",
       "    </tr>\n",
       "    <tr>\n",
       "      <th>4</th>\n",
       "      <td>1057074</td>\n",
       "      <td>677752</td>\n",
       "      <td>379322</td>\n",
       "    </tr>\n",
       "    <tr>\n",
       "      <th>...</th>\n",
       "      <td>...</td>\n",
       "      <td>...</td>\n",
       "      <td>...</td>\n",
       "    </tr>\n",
       "    <tr>\n",
       "      <th>315</th>\n",
       "      <td>2929236</td>\n",
       "      <td>3327583</td>\n",
       "      <td>-398347</td>\n",
       "    </tr>\n",
       "    <tr>\n",
       "      <th>316</th>\n",
       "      <td>2925299</td>\n",
       "      <td>2652386</td>\n",
       "      <td>272913</td>\n",
       "    </tr>\n",
       "    <tr>\n",
       "      <th>317</th>\n",
       "      <td>539398</td>\n",
       "      <td>476877</td>\n",
       "      <td>62521</td>\n",
       "    </tr>\n",
       "    <tr>\n",
       "      <th>318</th>\n",
       "      <td>1167599</td>\n",
       "      <td>1406737</td>\n",
       "      <td>-239138</td>\n",
       "    </tr>\n",
       "    <tr>\n",
       "      <th>319</th>\n",
       "      <td>994897</td>\n",
       "      <td>1155081</td>\n",
       "      <td>-160184</td>\n",
       "    </tr>\n",
       "  </tbody>\n",
       "</table>\n",
       "<p>320 rows × 3 columns</p>\n",
       "</div>"
      ],
      "text/plain": [
       "     Valores atuais  Valores previstos  Diferença\n",
       "0            953421            1325518    -372097\n",
       "1           1982777            2384956    -402179\n",
       "2           2325207            2424174     -98967\n",
       "3           2727729            2869094    -141365\n",
       "4           1057074             677752     379322\n",
       "..              ...                ...        ...\n",
       "315         2929236            3327583    -398347\n",
       "316         2925299            2652386     272913\n",
       "317          539398             476877      62521\n",
       "318         1167599            1406737    -239138\n",
       "319          994897            1155081    -160184\n",
       "\n",
       "[320 rows x 3 columns]"
      ]
     },
     "execution_count": 168,
     "metadata": {},
     "output_type": "execute_result"
    }
   ],
   "source": [
    "y_pred = [round(num) for num in y_pred]\n",
    "\n",
    "pred_y_df=pd.DataFrame({'Valores atuais':y_test,'Valores previstos':y_pred, 'Diferença': y_test-y_pred})\n",
    "pred_y_df"
   ]
  },
  {
   "cell_type": "code",
   "execution_count": 177,
   "id": "431e91cc",
   "metadata": {},
   "outputs": [
    {
     "data": {
      "text/plain": [
       "array([1684995.58090705])"
      ]
     },
     "execution_count": 177,
     "metadata": {},
     "output_type": "execute_result"
    }
   ],
   "source": [
    "ml.predict([[3000,0,10000,0]])"
   ]
  },
  {
   "cell_type": "code",
   "execution_count": null,
   "id": "a0c825ba",
   "metadata": {},
   "outputs": [],
   "source": []
  }
 ],
 "metadata": {},
 "nbformat": 4,
 "nbformat_minor": 5
}
