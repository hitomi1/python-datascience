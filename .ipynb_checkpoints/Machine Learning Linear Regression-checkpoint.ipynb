{
 "cells": [
  {
   "cell_type": "code",
   "execution_count": 49,
   "id": "a4b85062",
   "metadata": {},
   "outputs": [
    {
     "data": {
      "text/html": [
       "<div>\n",
       "<style scoped>\n",
       "    .dataframe tbody tr th:only-of-type {\n",
       "        vertical-align: middle;\n",
       "    }\n",
       "\n",
       "    .dataframe tbody tr th {\n",
       "        vertical-align: top;\n",
       "    }\n",
       "\n",
       "    .dataframe thead th {\n",
       "        text-align: right;\n",
       "    }\n",
       "</style>\n",
       "<table border=\"1\" class=\"dataframe\">\n",
       "  <thead>\n",
       "    <tr style=\"text-align: right;\">\n",
       "      <th></th>\n",
       "      <th>data</th>\n",
       "      <th>receita</th>\n",
       "      <th>transacoes_blog</th>\n",
       "      <th>transacoes_site</th>\n",
       "      <th>usuarios_blog</th>\n",
       "      <th>usuarios_site</th>\n",
       "    </tr>\n",
       "  </thead>\n",
       "  <tbody>\n",
       "    <tr>\n",
       "      <th>0</th>\n",
       "      <td>2019-01-01</td>\n",
       "      <td>349184</td>\n",
       "      <td>0</td>\n",
       "      <td>4693</td>\n",
       "      <td>0</td>\n",
       "      <td>46739</td>\n",
       "    </tr>\n",
       "    <tr>\n",
       "      <th>1</th>\n",
       "      <td>2019-01-02</td>\n",
       "      <td>867328</td>\n",
       "      <td>0</td>\n",
       "      <td>8501</td>\n",
       "      <td>0</td>\n",
       "      <td>83129</td>\n",
       "    </tr>\n",
       "    <tr>\n",
       "      <th>2</th>\n",
       "      <td>2019-01-03</td>\n",
       "      <td>758590</td>\n",
       "      <td>0</td>\n",
       "      <td>9375</td>\n",
       "      <td>0</td>\n",
       "      <td>86067</td>\n",
       "    </tr>\n",
       "    <tr>\n",
       "      <th>3</th>\n",
       "      <td>2019-01-04</td>\n",
       "      <td>688873</td>\n",
       "      <td>0</td>\n",
       "      <td>8405</td>\n",
       "      <td>0</td>\n",
       "      <td>69363</td>\n",
       "    </tr>\n",
       "    <tr>\n",
       "      <th>4</th>\n",
       "      <td>2019-01-05</td>\n",
       "      <td>441760</td>\n",
       "      <td>0</td>\n",
       "      <td>6136</td>\n",
       "      <td>0</td>\n",
       "      <td>56183</td>\n",
       "    </tr>\n",
       "    <tr>\n",
       "      <th>...</th>\n",
       "      <td>...</td>\n",
       "      <td>...</td>\n",
       "      <td>...</td>\n",
       "      <td>...</td>\n",
       "      <td>...</td>\n",
       "      <td>...</td>\n",
       "    </tr>\n",
       "    <tr>\n",
       "      <th>634</th>\n",
       "      <td>2020-09-26</td>\n",
       "      <td>2509687</td>\n",
       "      <td>1580</td>\n",
       "      <td>15320</td>\n",
       "      <td>9292</td>\n",
       "      <td>96178</td>\n",
       "    </tr>\n",
       "    <tr>\n",
       "      <th>635</th>\n",
       "      <td>2020-09-27</td>\n",
       "      <td>2182679</td>\n",
       "      <td>1838</td>\n",
       "      <td>14135</td>\n",
       "      <td>10052</td>\n",
       "      <td>103494</td>\n",
       "    </tr>\n",
       "    <tr>\n",
       "      <th>636</th>\n",
       "      <td>2020-09-28</td>\n",
       "      <td>3496475</td>\n",
       "      <td>2684</td>\n",
       "      <td>21724</td>\n",
       "      <td>11224</td>\n",
       "      <td>127524</td>\n",
       "    </tr>\n",
       "    <tr>\n",
       "      <th>637</th>\n",
       "      <td>2020-09-29</td>\n",
       "      <td>4519732</td>\n",
       "      <td>3037</td>\n",
       "      <td>28017</td>\n",
       "      <td>11570</td>\n",
       "      <td>150116</td>\n",
       "    </tr>\n",
       "    <tr>\n",
       "      <th>638</th>\n",
       "      <td>2020-09-30</td>\n",
       "      <td>6240174</td>\n",
       "      <td>3848</td>\n",
       "      <td>38535</td>\n",
       "      <td>9685</td>\n",
       "      <td>150780</td>\n",
       "    </tr>\n",
       "  </tbody>\n",
       "</table>\n",
       "<p>639 rows × 6 columns</p>\n",
       "</div>"
      ],
      "text/plain": [
       "           data  receita  transacoes_blog  transacoes_site  usuarios_blog  \\\n",
       "0    2019-01-01   349184                0             4693              0   \n",
       "1    2019-01-02   867328                0             8501              0   \n",
       "2    2019-01-03   758590                0             9375              0   \n",
       "3    2019-01-04   688873                0             8405              0   \n",
       "4    2019-01-05   441760                0             6136              0   \n",
       "..          ...      ...              ...              ...            ...   \n",
       "634  2020-09-26  2509687             1580            15320           9292   \n",
       "635  2020-09-27  2182679             1838            14135          10052   \n",
       "636  2020-09-28  3496475             2684            21724          11224   \n",
       "637  2020-09-29  4519732             3037            28017          11570   \n",
       "638  2020-09-30  6240174             3848            38535           9685   \n",
       "\n",
       "     usuarios_site  \n",
       "0            46739  \n",
       "1            83129  \n",
       "2            86067  \n",
       "3            69363  \n",
       "4            56183  \n",
       "..             ...  \n",
       "634          96178  \n",
       "635         103494  \n",
       "636         127524  \n",
       "637         150116  \n",
       "638         150780  \n",
       "\n",
       "[639 rows x 6 columns]"
      ]
     },
     "execution_count": 49,
     "metadata": {},
     "output_type": "execute_result"
    }
   ],
   "source": [
    "#Importando as bibliotecas\n",
    "\n",
    "%matplotlib inline\n",
    "import numpy as np\n",
    "import pandas as pd\n",
    "import matplotlib.pyplot as plt\n",
    "\n",
    "# Lendo os dados\n",
    "data = pd.read_csv('pseldata.csv')\n",
    "data.head(1000)"
   ]
  },
  {
   "cell_type": "code",
   "execution_count": 50,
   "id": "f9d733d9",
   "metadata": {},
   "outputs": [],
   "source": [
    "# Coletando os dados X e Y\n",
    "X = data['usuarios_blog'].values\n",
    "Y = data['transacoes_blog'].values"
   ]
  },
  {
   "cell_type": "code",
   "execution_count": 51,
   "id": "67bc4567",
   "metadata": {},
   "outputs": [
    {
     "name": "stdout",
     "output_type": "stream",
     "text": [
      "B1: 0.3185884304274829 B0: 69.63156953927825\n"
     ]
    }
   ],
   "source": [
    "# Média de X e Y\n",
    "mean_x = np.mean(X)\n",
    "mean_y = np.mean(Y)\n",
    "\n",
    "# Total de valores lidos\n",
    "n = len(X)\n",
    "\n",
    "# using the formula to calculate b1 and b2\n",
    "numer = 0\n",
    "denom = 0\n",
    "for i in range(n):\n",
    "    numer += (X[i] - mean_x) * (Y[i] - mean_y)\n",
    "    denom += (X[i] - mean_x) ** 2\n",
    "b1 = numer / denom\n",
    "b0 = mean_y - (b1 * mean_x)\n",
    "\n",
    "# print coefficients\n",
    "print(\"B1:\",b1,  \"B0:\",b0)"
   ]
  },
  {
   "cell_type": "code",
   "execution_count": 52,
   "id": "63185696",
   "metadata": {},
   "outputs": [
    {
     "data": {
      "image/png": "[encoded data removed]",
      "text/plain": [
       "<Figure size 432x288 with 1 Axes>"
      ]
     },
     "metadata": {
      "needs_background": "light"
     },
     "output_type": "display_data"
    }
   ],
   "source": [
    "max_x = np.max(X) + 100\n",
    "min_x = np.min(X) - 100\n",
    "\n",
    "# calculating line values x and y\n",
    "\n",
    "x = np.linspace(min_x, max_x)\n",
    "y = b0+b1*x\n",
    "\n",
    "# Plotando a linha de regressão encontrada\n",
    "plt.plot(x,y,color ='blue', label = 'Regression Line')\n",
    "# Pĺotando o gráfico de dispersão\n",
    "plt.scatter(X,Y,color = 'darkorange', label = 'Scatter Plot')\n",
    "\n",
    "plt.xlabel('Usuários Blog')\n",
    "plt.ylabel('Transacoes Blog')\n",
    "plt.legend()\n",
    "plt.show()\n"
   ]
  },
  {
   "cell_type": "code",
   "execution_count": 53,
   "id": "bd0d6375",
   "metadata": {},
   "outputs": [
    {
     "ename": "IndexError",
     "evalue": "index 50 is out of bounds for axis 0 with size 50",
     "output_type": "error",
     "traceback": [
      "\u001b[0;31m---------------------------------------------------------------------------\u001b[0m",
      "\u001b[0;31mIndexError\u001b[0m                                Traceback (most recent call last)",
      "\u001b[0;32m/tmp/ipykernel_12437/130443770.py\u001b[0m in \u001b[0;36m<module>\u001b[0;34m\u001b[0m\n\u001b[1;32m      2\u001b[0m \u001b[0mss_r\u001b[0m \u001b[0;34m=\u001b[0m \u001b[0;36m0\u001b[0m\u001b[0;34m\u001b[0m\u001b[0;34m\u001b[0m\u001b[0m\n\u001b[1;32m      3\u001b[0m \u001b[0;32mfor\u001b[0m \u001b[0mi\u001b[0m \u001b[0;32min\u001b[0m \u001b[0mrange\u001b[0m\u001b[0;34m(\u001b[0m\u001b[0mn\u001b[0m\u001b[0;34m)\u001b[0m\u001b[0;34m:\u001b[0m\u001b[0;34m\u001b[0m\u001b[0;34m\u001b[0m\u001b[0m\n\u001b[0;32m----> 4\u001b[0;31m     \u001b[0my_pred\u001b[0m \u001b[0;34m=\u001b[0m \u001b[0mb0\u001b[0m\u001b[0;34m+\u001b[0m\u001b[0mb1\u001b[0m\u001b[0;34m*\u001b[0m\u001b[0mx\u001b[0m\u001b[0;34m[\u001b[0m\u001b[0mi\u001b[0m\u001b[0;34m]\u001b[0m\u001b[0;34m\u001b[0m\u001b[0;34m\u001b[0m\u001b[0m\n\u001b[0m\u001b[1;32m      5\u001b[0m     \u001b[0mss_t\u001b[0m \u001b[0;34m+=\u001b[0m \u001b[0;34m(\u001b[0m\u001b[0mY\u001b[0m\u001b[0;34m[\u001b[0m\u001b[0mi\u001b[0m\u001b[0;34m]\u001b[0m\u001b[0;34m-\u001b[0m\u001b[0mmean_y\u001b[0m\u001b[0;34m)\u001b[0m \u001b[0;34m**\u001b[0m \u001b[0;36m2\u001b[0m\u001b[0;34m\u001b[0m\u001b[0;34m\u001b[0m\u001b[0m\n\u001b[1;32m      6\u001b[0m     \u001b[0mss_r\u001b[0m \u001b[0;34m+=\u001b[0m \u001b[0;34m(\u001b[0m\u001b[0mY\u001b[0m\u001b[0;34m[\u001b[0m\u001b[0mi\u001b[0m\u001b[0;34m]\u001b[0m \u001b[0;34m-\u001b[0m \u001b[0my_pred\u001b[0m\u001b[0;34m)\u001b[0m \u001b[0;34m**\u001b[0m \u001b[0;36m2\u001b[0m\u001b[0;34m\u001b[0m\u001b[0;34m\u001b[0m\u001b[0m\n",
      "\u001b[0;31mIndexError\u001b[0m: index 50 is out of bounds for axis 0 with size 50"
     ]
    }
   ],
   "source": [
    "ss_t = 0\n",
    "ss_r = 0\n",
    "for i in range(n):\n",
    "    y_pred = b0+b1*x[i]\n",
    "    ss_t += (Y[i]-mean_y) ** 2\n",
    "    ss_r += (Y[i] - y_pred) ** 2\n",
    "r2 = 1 - (ss_r/ss_t)\n",
    "print(r2)"
   ]
  },
  {
   "cell_type": "code",
   "execution_count": 54,
   "id": "c80b0fba",
   "metadata": {},
   "outputs": [
    {
     "name": "stdout",
     "output_type": "stream",
     "text": [
      "0.7980606707650713\n"
     ]
    }
   ],
   "source": [
    "from sklearn.linear_model import LinearRegression\n",
    "from sklearn.metrics import mean_squared_error\n",
    "\n",
    "#cannot use rank 1 matrix in scikit learn\n",
    "X = X.reshape((n,1))\n",
    "#creating model\n",
    "reg = LinearRegression()\n",
    "#fitting training data\n",
    "reg = reg.fit(X,Y)\n",
    "#Y predicition\n",
    "Y_pred = reg.predict(X)\n",
    "\n",
    "#calculating r2 score\n",
    "r2_score = reg.score(X,Y)\n",
    "print(r2_score)"
   ]
  },
  {
   "cell_type": "code",
   "execution_count": null,
   "id": "d57b05ec",
   "metadata": {},
   "outputs": [],
   "source": []
  }
 ],
 "metadata": {
  "kernelspec": {
   "display_name": "Python 3 (ipykernel)",
   "language": "python",
   "name": "python3"
  },
  "language_info": {
   "codemirror_mode": {
    "name": "ipython",
    "version": 3
   },
   "file_extension": ".py",
   "mimetype": "text/x-python",
   "name": "python",
   "nbconvert_exporter": "python",
   "pygments_lexer": "ipython3",
   "version": "3.9.7"
  }
 },
 "nbformat": 4,
 "nbformat_minor": 5
}
